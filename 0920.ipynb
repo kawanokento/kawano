{
  "nbformat": 4,
  "nbformat_minor": 0,
  "metadata": {
    "colab": {
      "provenance": [],
      "authorship_tag": "ABX9TyNHAQ3amR3V7Wr7Xl0cyo2H",
      "include_colab_link": true
    },
    "kernelspec": {
      "name": "python3",
      "display_name": "Python 3"
    },
    "language_info": {
      "name": "python"
    }
  },
  "cells": [
    {
      "cell_type": "markdown",
      "metadata": {
        "id": "view-in-github",
        "colab_type": "text"
      },
      "source": [
        "<a href=\"https://colab.research.google.com/github/kawanokento/kawano/blob/main/0920.ipynb\" target=\"_parent\"><img src=\"https://colab.research.google.com/assets/colab-badge.svg\" alt=\"Open In Colab\"/></a>"
      ]
    },
    {
      "cell_type": "code",
      "execution_count": 1,
      "metadata": {
        "colab": {
          "base_uri": "https://localhost:8080/"
        },
        "id": "jnhCZiNoWCrL",
        "outputId": "30449e24-f3f2-4aa9-e069-0d9dc72be033"
      },
      "outputs": [
        {
          "output_type": "stream",
          "name": "stdout",
          "text": [
            "test message\n"
          ]
        }
      ],
      "source": [
        "def hello():\n",
        "  print('hello, kansuu!')\n",
        "print('test message')\n",
        "  "
      ]
    },
    {
      "cell_type": "code",
      "source": [
        "hello()\n",
        "hello()"
      ],
      "metadata": {
        "colab": {
          "base_uri": "https://localhost:8080/"
        },
        "id": "Q-HFhptzdUBf",
        "outputId": "9c48f081-99aa-4681-a2b0-d30ac1928725"
      },
      "execution_count": 2,
      "outputs": [
        {
          "output_type": "stream",
          "name": "stdout",
          "text": [
            "hello, kansuu!\n",
            "hello, kansuu!\n"
          ]
        }
      ]
    },
    {
      "cell_type": "code",
      "source": [
        "def hello(who):\n",
        "  print('hello,'+ who + '!')\n",
        "  \n",
        "  hello('python!')"
      ],
      "metadata": {
        "id": "KpLlR--NeTp3"
      },
      "execution_count": 4,
      "outputs": []
    },
    {
      "cell_type": "code",
      "source": [
        "def hello(who,aisatu):\n",
        "  print('hello', + who + 'さん' + aisatu)\n",
        "\n",
        "  hello('田中' ,'おはよう')\n",
        "  hello('鈴木','こんにちは')"
      ],
      "metadata": {
        "id": "-urdly4nfus5"
      },
      "execution_count": 5,
      "outputs": []
    },
    {
      "cell_type": "code",
      "source": [
        "from re import S\n",
        "def helloBack(who,assatu):\n",
        "  return who + 'さん,' + aisatu\n",
        "\n",
        "x = helloBack('佐藤','こんばんは')\n",
        "print(x)"
      ],
      "metadata": {
        "colab": {
          "base_uri": "https://localhost:8080/",
          "height": 356
        },
        "id": "b54TFUx1hNzQ",
        "outputId": "24a6e515-24e4-410f-f0ea-0a8765a47862"
      },
      "execution_count": 6,
      "outputs": [
        {
          "output_type": "error",
          "ename": "NameError",
          "evalue": "ignored",
          "traceback": [
            "\u001b[0;31m---------------------------------------------------------------------------\u001b[0m",
            "\u001b[0;31mNameError\u001b[0m                                 Traceback (most recent call last)",
            "\u001b[0;32m<ipython-input-6-c55bc94c9d18>\u001b[0m in \u001b[0;36m<module>\u001b[0;34m\u001b[0m\n\u001b[1;32m      3\u001b[0m   \u001b[0;32mreturn\u001b[0m \u001b[0mwho\u001b[0m \u001b[0;34m+\u001b[0m \u001b[0;34m'さん,'\u001b[0m \u001b[0;34m+\u001b[0m \u001b[0maisatu\u001b[0m\u001b[0;34m\u001b[0m\u001b[0;34m\u001b[0m\u001b[0m\n\u001b[1;32m      4\u001b[0m \u001b[0;34m\u001b[0m\u001b[0m\n\u001b[0;32m----> 5\u001b[0;31m \u001b[0mx\u001b[0m \u001b[0;34m=\u001b[0m \u001b[0mhelloBack\u001b[0m\u001b[0;34m(\u001b[0m\u001b[0;34m'佐藤'\u001b[0m\u001b[0;34m,\u001b[0m\u001b[0;34m'こんばんは'\u001b[0m\u001b[0;34m)\u001b[0m\u001b[0;34m\u001b[0m\u001b[0;34m\u001b[0m\u001b[0m\n\u001b[0m\u001b[1;32m      6\u001b[0m \u001b[0mprint\u001b[0m\u001b[0;34m(\u001b[0m\u001b[0mx\u001b[0m\u001b[0;34m)\u001b[0m\u001b[0;34m\u001b[0m\u001b[0;34m\u001b[0m\u001b[0m\n",
            "\u001b[0;32m<ipython-input-6-c55bc94c9d18>\u001b[0m in \u001b[0;36mhelloBack\u001b[0;34m(who, assatu)\u001b[0m\n\u001b[1;32m      1\u001b[0m \u001b[0;32mfrom\u001b[0m \u001b[0mre\u001b[0m \u001b[0;32mimport\u001b[0m \u001b[0mS\u001b[0m\u001b[0;34m\u001b[0m\u001b[0;34m\u001b[0m\u001b[0m\n\u001b[1;32m      2\u001b[0m \u001b[0;32mdef\u001b[0m \u001b[0mhelloBack\u001b[0m\u001b[0;34m(\u001b[0m\u001b[0mwho\u001b[0m\u001b[0;34m,\u001b[0m\u001b[0massatu\u001b[0m\u001b[0;34m)\u001b[0m\u001b[0;34m:\u001b[0m\u001b[0;34m\u001b[0m\u001b[0;34m\u001b[0m\u001b[0m\n\u001b[0;32m----> 3\u001b[0;31m   \u001b[0;32mreturn\u001b[0m \u001b[0mwho\u001b[0m \u001b[0;34m+\u001b[0m \u001b[0;34m'さん,'\u001b[0m \u001b[0;34m+\u001b[0m \u001b[0maisatu\u001b[0m\u001b[0;34m\u001b[0m\u001b[0;34m\u001b[0m\u001b[0m\n\u001b[0m\u001b[1;32m      4\u001b[0m \u001b[0;34m\u001b[0m\u001b[0m\n\u001b[1;32m      5\u001b[0m \u001b[0mx\u001b[0m \u001b[0;34m=\u001b[0m \u001b[0mhelloBack\u001b[0m\u001b[0;34m(\u001b[0m\u001b[0;34m'佐藤'\u001b[0m\u001b[0;34m,\u001b[0m\u001b[0;34m'こんばんは'\u001b[0m\u001b[0;34m)\u001b[0m\u001b[0;34m\u001b[0m\u001b[0;34m\u001b[0m\u001b[0m\n",
            "\u001b[0;31mNameError\u001b[0m: name 'aisatu' is not defined"
          ]
        }
      ]
    },
    {
      "cell_type": "code",
      "source": [
        "def keisan(x,y):\n",
        "  return x, y, x+y\n",
        "e,f,g = keisan(3,6)\n",
        "print(e,f,g)"
      ],
      "metadata": {
        "colab": {
          "base_uri": "https://localhost:8080/"
        },
        "id": "f7fT0rWKi5uI",
        "outputId": "12bc5291-557f-45eb-bbdb-a6f238ba3a3e"
      },
      "execution_count": 7,
      "outputs": [
        {
          "output_type": "stream",
          "name": "stdout",
          "text": [
            "3 6 9\n"
          ]
        }
      ]
    },
    {
      "cell_type": "code",
      "source": [
        "def over(num, thres):\n",
        "  if num > thres:\n",
        "    print(str(num) + 'は' + str(thres) + 'より大きい')\n",
        "    else:\n",
        "      print(str(num) + 'は' str(thres) + '以下です')\n",
        "      over(333, 100)"
      ],
      "metadata": {
        "colab": {
          "base_uri": "https://localhost:8080/",
          "height": 138
        },
        "id": "YTDWtUr2ksKo",
        "outputId": "796aa307-01ee-4010-96c2-38e853f1a32f"
      },
      "execution_count": 8,
      "outputs": [
        {
          "output_type": "error",
          "ename": "SyntaxError",
          "evalue": "ignored",
          "traceback": [
            "\u001b[0;36m  File \u001b[0;32m\"<ipython-input-8-3d593b070b96>\"\u001b[0;36m, line \u001b[0;32m4\u001b[0m\n\u001b[0;31m    else:\u001b[0m\n\u001b[0m       ^\u001b[0m\n\u001b[0;31mSyntaxError\u001b[0m\u001b[0;31m:\u001b[0m invalid syntax\n"
          ]
        }
      ]
    },
    {
      "cell_type": "code",
      "source": [
        "def include()list,keyword):\n",
        "  uniq = set(list)\n",
        "  if keyword　in uniq:\n",
        "  print(keyword + 'が含まれる')\n",
        "  else:\n",
        "    print(keywoord + 'が含まれない')\n",
        "    list_1 = ['アップル','ペン','ペン,'ペン,'パイナップル']\n",
        "    include(list_1,'パイナップル')\n",
        "    include(list_1, 'バナナ')\n",
        "\n"
      ],
      "metadata": {
        "colab": {
          "base_uri": "https://localhost:8080/",
          "height": 138
        },
        "id": "siYNaybBnwXB",
        "outputId": "78fb8b32-6756-4572-80f8-cc2e05899de3"
      },
      "execution_count": 9,
      "outputs": [
        {
          "output_type": "error",
          "ename": "SyntaxError",
          "evalue": "ignored",
          "traceback": [
            "\u001b[0;36m  File \u001b[0;32m\"<ipython-input-9-e71fe54515fe>\"\u001b[0;36m, line \u001b[0;32m1\u001b[0m\n\u001b[0;31m    def include()list,keyword):\u001b[0m\n\u001b[0m                    ^\u001b[0m\n\u001b[0;31mSyntaxError\u001b[0m\u001b[0;31m:\u001b[0m invalid syntax\n"
          ]
        }
      ]
    },
    {
      "cell_type": "code",
      "source": [
        "def count(max):\n",
        "  num = 0\n",
        "  while num < max:\n",
        "    print(num)\n",
        "    num += 1\n",
        "    count(5)"
      ],
      "metadata": {
        "id": "MCHwC8zDwduv"
      },
      "execution_count": 10,
      "outputs": []
    },
    {
      "cell_type": "code",
      "source": [
        "def every(array):\n",
        "  for x in array:\n",
        "\n",
        "    "
      ],
      "metadata": {
        "colab": {
          "base_uri": "https://localhost:8080/",
          "height": 138
        },
        "id": "wecbgGG8z-Tp",
        "outputId": "42fd5b53-cebe-4f17-d3ce-dd1b572f2d52"
      },
      "execution_count": 11,
      "outputs": [
        {
          "output_type": "error",
          "ename": "SyntaxError",
          "evalue": "ignored",
          "traceback": [
            "\u001b[0;36m  File \u001b[0;32m\"<ipython-input-11-f35cd5098050>\"\u001b[0;36m, line \u001b[0;32m4\u001b[0m\n\u001b[0;31m    \u001b[0m\n\u001b[0m    ^\u001b[0m\n\u001b[0;31mSyntaxError\u001b[0m\u001b[0;31m:\u001b[0m unexpected EOF while parsing\n"
          ]
        }
      ]
    },
    {
      "cell_type": "code",
      "source": [
        "def count(num):\n",
        "for i in range(num):\n",
        "  print(i)\n",
        "count(3)\n"
      ],
      "metadata": {
        "colab": {
          "base_uri": "https://localhost:8080/",
          "height": 138
        },
        "id": "27qNoaqK3uC5",
        "outputId": "fe4b6710-ad67-49cb-8332-82ccfab64a40"
      },
      "execution_count": 12,
      "outputs": [
        {
          "output_type": "error",
          "ename": "IndentationError",
          "evalue": "ignored",
          "traceback": [
            "\u001b[0;36m  File \u001b[0;32m\"<ipython-input-12-f9ee3aa47f76>\"\u001b[0;36m, line \u001b[0;32m2\u001b[0m\n\u001b[0;31m    for i in range(num):\u001b[0m\n\u001b[0m      ^\u001b[0m\n\u001b[0;31mIndentationError\u001b[0m\u001b[0;31m:\u001b[0m expected an indented block\n"
          ]
        }
      ]
    },
    {
      "cell_type": "code",
      "source": [
        "def stop (array):\n",
        "  for i in array:\n",
        "    if i >= 4:\n",
        "      break\n",
        "      print(i)\n",
        "    "
      ],
      "metadata": {
        "id": "RrryBvMS5AvD"
      },
      "execution_count": null,
      "outputs": []
    }
  ]
}